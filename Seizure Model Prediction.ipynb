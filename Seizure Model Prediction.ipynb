{
 "cells": [
  {
   "cell_type": "code",
   "execution_count": 10,
   "metadata": {},
   "outputs": [],
   "source": [
    "import pandas as pd\n",
    "import numpy as np\n",
    "from numpy.random import normal as normal\n",
    "import matplotlib.pyplot as plt\n",
    "from mpl_toolkits.mplot3d import Axes3D \n",
    "import matplotlib.animation as animation\n",
    "import matplotlib\n",
    "from matplotlib import rc\n",
    "from IPython.display import HTML, Image\n",
    "from xgboost import XGBClassifier\n",
    "from sklearn.preprocessing import StandardScaler\n",
    "from sklearn.model_selection import GridSearchCV\n",
    "from sklearn.model_selection import StratifiedKFold\n",
    "from sklearn.metrics import f1_score, make_scorer\n",
    "from sklearn.ensemble import RandomForestClassifier\n",
    "from sklearn.metrics import confusion_matrix\n",
    "from xgboost import plot_importance\n",
    "import pickle\n",
    "import json"
   ]
  },
  {
   "cell_type": "markdown",
   "metadata": {},
   "source": [
    "## Define Body Parts List and Segment Lists "
   ]
  },
  {
   "cell_type": "code",
   "execution_count": 2,
   "metadata": {},
   "outputs": [],
   "source": [
    "full_body = []\n",
    "right_arm = []\n",
    "left_arm =[]\n",
    "left_leg = []\n",
    "right_leg = []\n",
    "head = []\n",
    "\n",
    "def partPosNOrien(part,source):\n",
    "    source.append(part+\"x\")\n",
    "    source.append(part+\"y\")\n",
    "    source.append(part+\"z\")\n",
    "    source.append(\"Pitch_\"+part+\"_orientation\")\n",
    "    source.append(\"Yaw_\"+part+\"_orientation\")\n",
    "    source.append(\"Roll_\"+part+\"_orientation\")\n",
    "    return source\n",
    "body_parts = [\"pelvis\", \"naval\", \"chest\", \"neck\", \"clavicle_left\", \"shoulder_left\", \"elbow_left\", \"wrist_left\", \"hand_left\", \"handtip_left\", \"thumb_left\", \"clavicle_right\", \"shoulder_right\", \"elbow_right\", \"wrist_right\", \"hand_right\", \"handtip_right\", \"thumb_right\", \"hip_left\", \"knee_left\", \"ankle_left\", \"foot_left\", \"hip_right\", \"knee_right\", \"ankle_right\", \"foot_right\", \"head\", \"nose\", \"eye_left\", \"ear_left\", \"eye_right\", \"ear_right\"]\n",
    "\n",
    "for part in body_parts:\n",
    "    full_body = partPosNOrien(part,full_body)\n",
    "    if part in [\"neck\",\"head\", \"nose\", \"eye_left\", \"ear_left\", \"eye_right\", \"ear_right\"]:\n",
    "        head = partPosNOrien(part,head)\n",
    "    if part in [\"clavicle_left\", \"shoulder_left\", \"elbow_left\", \"wrist_left\", \"hand_left\", \"handtip_left\", \"thumb_left\"]:\n",
    "        left_arm = partPosNOrien(part,left_arm)\n",
    "    if part in [\"clavicle_right\", \"shoulder_right\", \"elbow_right\", \"wrist_right\", \"hand_right\", \"handtip_right\", \"thumb_right\"]:\n",
    "        right_arm = partPosNOrien(part,right_arm)\n",
    "    if part in [\"hip_left\", \"knee_left\", \"ankle_left\", \"foot_left\"]:\n",
    "        left_leg = partPosNOrien(part,left_leg)\n",
    "    if part in [\"hip_right\", \"knee_right\", \"ankle_right\", \"foot_right\"]:\n",
    "        right_leg = partPosNOrien(part,right_leg)\n"
   ]
  },
  {
   "cell_type": "markdown",
   "metadata": {},
   "source": [
    "## Calculate velocity and acceleration of joints then generate table of std, skew, and kurt of data based on predefined timeframe"
   ]
  },
  {
   "cell_type": "code",
   "execution_count": 3,
   "metadata": {},
   "outputs": [],
   "source": [
    "def seizure_body_dist_data(df,full_body,dist_timeFrame):\n",
    "    seizure_body_df = df[full_body]\n",
    "\n",
    "    seizure_body_positions = []\n",
    "    seizure_body_x_positions = []\n",
    "    seizure_body_x_velocity_dict = {}\n",
    "    seizure_body_x_acceleration_dict = {}\n",
    "    seizure_body_y_positions = []\n",
    "    seizure_body_y_velocity_dict = {}\n",
    "    seizure_body_y_acceleration_dict = {}\n",
    "    seizure_body_z_positions = []\n",
    "    seizure_body_z_velocity_dict = {}\n",
    "    seizure_body_z_acceleration_dict = {}\n",
    "    seizure_body_orientations = []\n",
    "    # Create an completely empty Dataframe without any column names, indices or data\n",
    "    dfObj = pd.DataFrame()\n",
    "    vel_time = np.divide(list(df[\"Azure_time\"])[1:],1000000).tolist()\n",
    "    accl_time = np.divide(list(df[\"Azure_time\"])[2:],1000000).tolist()\n",
    "    for name in full_body:\n",
    "        if \"orientation\" not in name:\n",
    "            seizure_body_positions.append(name)\n",
    "            if name[-1] == 'x':\n",
    "                seizure_body_x_positions.append(name)\n",
    "                seizure_body_x_velocity_dict[name] = []\n",
    "                seizure_body_x_acceleration_dict[name] =[]\n",
    "                for i in range(0,len(list(df[name]))-1):\n",
    "                    delta_time = (list(df[\"Azure_time\"])[i+1]-list(df[\"Azure_time\"])[i])/1000000\n",
    "                    delta_x = (list(df[name])[i+1]-list(df[name])[i])\n",
    "                    seizure_body_x_velocity_dict[name].append(delta_x/delta_time)\n",
    "                dfObj[name+\"_velocity\"]=seizure_body_x_velocity_dict[name][1:]\n",
    "                for i in range(0,len(list(df[name]))-2):\n",
    "                    delta_time = (list(df[\"Azure_time\"])[i+1]-list(df[\"Azure_time\"])[i])/1000000\n",
    "                    delta_vx = (seizure_body_x_velocity_dict[name][i+1]-seizure_body_x_velocity_dict[name][i])\n",
    "                    seizure_body_x_acceleration_dict[name].append(delta_vx/delta_time)\n",
    "                dfObj[name+\"_acceleration\"]=seizure_body_x_acceleration_dict[name]\n",
    "            elif name[-1] == 'y':\n",
    "                seizure_body_y_positions.append(name)\n",
    "                seizure_body_y_velocity_dict[name] = []\n",
    "                seizure_body_y_acceleration_dict[name] =[]\n",
    "                for i in range(0,len(list(df[name]))-1):\n",
    "                    delta_time = (list(df[\"Azure_time\"])[i+1]-list(df[\"Azure_time\"])[i])/1000000\n",
    "                    delta_y = (list(df[name])[i+1]-list(df[name])[i])\n",
    "                    seizure_body_y_velocity_dict[name].append(delta_y/delta_time)\n",
    "                dfObj[name+\"_velocity\"]=seizure_body_y_velocity_dict[name][1:]\n",
    "                for i in range(0,len(list(df[name]))-2):\n",
    "                    delta_time = (list(df[\"Azure_time\"])[i+1]-list(df[\"Azure_time\"])[i])/1000000\n",
    "                    delta_vy = (seizure_body_y_velocity_dict[name][i+1]-seizure_body_y_velocity_dict[name][i])\n",
    "                    seizure_body_y_acceleration_dict[name].append(delta_vy/delta_time)\n",
    "                dfObj[name+\"_acceleration\"]=seizure_body_y_acceleration_dict[name]\n",
    "            else:\n",
    "                seizure_body_z_positions.append(name)\n",
    "                seizure_body_z_velocity_dict[name] = []\n",
    "                seizure_body_z_acceleration_dict[name] =[]\n",
    "                for i in range(0,len(list(df[name]))-1):\n",
    "                    delta_time = (list(df[\"Azure_time\"])[i+1]-list(df[\"Azure_time\"])[i])/1000000\n",
    "                    delta_z = (list(df[name])[i+1]-list(df[name])[i])\n",
    "                    seizure_body_z_velocity_dict[name].append(delta_z/delta_time)\n",
    "                dfObj[name+\"_velocity\"]=seizure_body_z_velocity_dict[name][1:]\n",
    "                for i in range(0,len(list(df[name]))-2):\n",
    "                    delta_time = (list(df[\"Azure_time\"])[i+1]-list(df[\"Azure_time\"])[i])/1000000\n",
    "                    delta_z = (seizure_body_z_velocity_dict[name][i+1]-seizure_body_z_velocity_dict[name][i])\n",
    "                    seizure_body_z_acceleration_dict[name].append(delta_z/delta_time)\n",
    "                dfObj[name+\"_acceleration\"]=seizure_body_z_acceleration_dict[name]\n",
    "        if \"orientation\" in name:\n",
    "            seizure_body_orientations.append(name)\n",
    "    seizure_body_x_positions_df = seizure_body_df[seizure_body_x_positions]\n",
    "    seizure_body_y_positions_df = seizure_body_df[seizure_body_y_positions]\n",
    "    seizure_body_z_positions_df = seizure_body_df[seizure_body_z_positions]\n",
    "    # Create an completely empty Dataframe without any column names, indices or data\n",
    "    dfObj2 = pd.DataFrame()\n",
    "\n",
    "    for name in list(dfObj):\n",
    "        std_list = []\n",
    "        skew_list = []\n",
    "        kurt_list = []\n",
    "        accel_change_count_list = []\n",
    "        for i in range(dist_timeFrame-1,dfObj.shape[0]):\n",
    "            accel_change_count = 0\n",
    "            neg_accel_count = 0\n",
    "            pos_accel_count = 0\n",
    "            std_list.append(dfObj[name].iloc[i-(dist_timeFrame-1):i].std())\n",
    "            skew_list.append(dfObj[name].iloc[i-(dist_timeFrame-1):i].skew())\n",
    "            kurt_list.append(dfObj[name].iloc[i-(dist_timeFrame-1):i].kurt())\n",
    "            for j in range(i-dist_timeFrame,i):\n",
    "                if name[-13] == '_' and dfObj[name].iloc[j] > 500:\n",
    "                    pos_accel_count +=1\n",
    "                elif name[-13] == '_' and dfObj[name].iloc[j] < -500:\n",
    "                    neg_accel_count +=1\n",
    "            accel_change_count = abs(pos_accel_count - neg_accel_count)\n",
    "            accel_change_count_list.append(accel_change_count)\n",
    "        dfObj2[name+\"_std\"] = std_list\n",
    "        dfObj2[name+\"_skew\"] = skew_list\n",
    "        dfObj2[name+\"_kurt\"] = kurt_list\n",
    "        if name[-1] == 'n':\n",
    "            dfObj2[name+\"_accel_change_count\"] = accel_change_count_list\n",
    "    dfObj2['response'] = \"seizure\"\n",
    "    return dfObj2"
   ]
  },
  {
   "cell_type": "code",
   "execution_count": 20,
   "metadata": {},
   "outputs": [],
   "source": [
    "def normal_body_dist_data(df,full_body,dist_timeFrame):\n",
    "    normal_body_df = df[full_body]\n",
    "\n",
    "    normal_body_positions = []\n",
    "    normal_body_x_positions = []\n",
    "    normal_body_x_velocity_dict = {}\n",
    "    normal_body_x_acceleration_dict = {}\n",
    "    normal_body_y_positions = []\n",
    "    normal_body_y_velocity_dict = {}\n",
    "    normal_body_y_acceleration_dict = {}\n",
    "    normal_body_z_positions = []\n",
    "    normal_body_z_velocity_dict = {}\n",
    "    normal_body_z_acceleration_dict = {}\n",
    "    normal_body_orientations = []\n",
    "    # Create an completely empty Dataframe without any column names, indices or data\n",
    "    dfObj = pd.DataFrame()\n",
    "    vel_time = np.divide(list(df[\"Azure_time\"])[1:],1000000).tolist()\n",
    "    accl_time = np.divide(list(df[\"Azure_time\"])[2:],1000000).tolist()\n",
    "    for name in full_body:\n",
    "        if \"orientation\" not in name:\n",
    "            normal_body_positions.append(name)\n",
    "            if name[-1] == 'x':\n",
    "                normal_body_x_positions.append(name)\n",
    "                normal_body_x_velocity_dict[name] = []\n",
    "                normal_body_x_acceleration_dict[name] =[]\n",
    "                for i in range(0,len(list(df[name]))-1):\n",
    "                    delta_time = (list(df[\"Azure_time\"])[i+1]-list(df[\"Azure_time\"])[i])/1000000\n",
    "                    delta_x = (list(df[name])[i+1]-list(df[name])[i])\n",
    "                    normal_body_x_velocity_dict[name].append(delta_x/delta_time)\n",
    "                dfObj[name+\"_velocity\"]=normal_body_x_velocity_dict[name][1:]\n",
    "                for i in range(0,len(list(df[name]))-2):\n",
    "                    delta_time = (list(df[\"Azure_time\"])[i+1]-list(df[\"Azure_time\"])[i])/1000000\n",
    "                    delta_vx = (normal_body_x_velocity_dict[name][i+1]-normal_body_x_velocity_dict[name][i])\n",
    "                    normal_body_x_acceleration_dict[name].append(delta_vx/delta_time)\n",
    "                dfObj[name+\"_acceleration\"]=normal_body_x_acceleration_dict[name]\n",
    "            elif name[-1] == 'y':\n",
    "                normal_body_y_positions.append(name)\n",
    "                normal_body_y_velocity_dict[name] = []\n",
    "                normal_body_y_acceleration_dict[name] =[]\n",
    "                for i in range(0,len(list(df[name]))-1):\n",
    "                    delta_time = (list(df[\"Azure_time\"])[i+1]-list(df[\"Azure_time\"])[i])/1000000\n",
    "                    delta_y = (list(df[name])[i+1]-list(df[name])[i])\n",
    "                    normal_body_y_velocity_dict[name].append(delta_y/delta_time)\n",
    "                dfObj[name+\"_velocity\"]=normal_body_y_velocity_dict[name][1:]\n",
    "                for i in range(0,len(list(df[name]))-2):\n",
    "                    delta_time = (list(df[\"Azure_time\"])[i+1]-list(df[\"Azure_time\"])[i])/1000000\n",
    "                    delta_vy = (normal_body_y_velocity_dict[name][i+1]-normal_body_y_velocity_dict[name][i])\n",
    "                    normal_body_y_acceleration_dict[name].append(delta_vy/delta_time)\n",
    "                dfObj[name+\"_acceleration\"]=normal_body_y_acceleration_dict[name]\n",
    "            else:\n",
    "                normal_body_z_positions.append(name)\n",
    "                normal_body_z_velocity_dict[name] = []\n",
    "                normal_body_z_acceleration_dict[name] =[]\n",
    "                for i in range(0,len(list(df[name]))-1):\n",
    "                    delta_time = (list(df[\"Azure_time\"])[i+1]-list(df[\"Azure_time\"])[i])/1000000\n",
    "                    delta_z = (list(df[name])[i+1]-list(df[name])[i])\n",
    "                    normal_body_z_velocity_dict[name].append(delta_z/delta_time)\n",
    "                dfObj[name+\"_velocity\"]=normal_body_z_velocity_dict[name][1:]\n",
    "                for i in range(0,len(list(df[name]))-2):\n",
    "                    delta_time = (list(df[\"Azure_time\"])[i+1]-list(df[\"Azure_time\"])[i])/1000000\n",
    "                    delta_z = (normal_body_z_velocity_dict[name][i+1]-normal_body_z_velocity_dict[name][i])\n",
    "                    normal_body_z_acceleration_dict[name].append(delta_z/delta_time)\n",
    "                dfObj[name+\"_acceleration\"]=normal_body_z_acceleration_dict[name]\n",
    "        if \"orientation\" in name:\n",
    "            normal_body_orientations.append(name)\n",
    "    normal_body_x_positions_df = normal_body_df[normal_body_x_positions]\n",
    "    normal_body_y_positions_df = normal_body_df[normal_body_y_positions]\n",
    "    normal_body_z_positions_df = normal_body_df[normal_body_z_positions]\n",
    "    # Create an completely empty Dataframe without any column names, indices or data\n",
    "    dfObj2 = pd.DataFrame()\n",
    "\n",
    "    for name in list(dfObj):\n",
    "        std_list = []\n",
    "        skew_list = []\n",
    "        kurt_list = []\n",
    "        accel_change_count_list = []\n",
    "        for i in range(dist_timeFrame-1,dfObj.shape[0]):\n",
    "            accel_change_count = 0\n",
    "            neg_accel_count = 0\n",
    "            pos_accel_count = 0\n",
    "            std_list.append(dfObj[name].iloc[i-(dist_timeFrame-1):i].std())\n",
    "            skew_list.append(dfObj[name].iloc[i-(dist_timeFrame-1):i].skew())\n",
    "            kurt_list.append(dfObj[name].iloc[i-(dist_timeFrame-1):i].kurt())\n",
    "            for j in range(i-dist_timeFrame,i):\n",
    "                if name[-13] == '_' and dfObj[name].iloc[j] > 500:\n",
    "                    pos_accel_count +=1\n",
    "                elif name[-13] == '_' and dfObj[name].iloc[j] < -500:\n",
    "                    neg_accel_count +=1\n",
    "            accel_change_count = abs(pos_accel_count - neg_accel_count)\n",
    "            accel_change_count_list.append(accel_change_count)\n",
    "        dfObj2[name+\"_std\"] = std_list\n",
    "        dfObj2[name+\"_skew\"] = skew_list\n",
    "        dfObj2[name+\"_kurt\"] = kurt_list\n",
    "        if name[-1] == 'n':\n",
    "            dfObj2[name+\"_accel_change_count\"] = accel_change_count_list\n",
    "    dfObj2['response'] = \"normal\"\n",
    "    return dfObj2"
   ]
  },
  {
   "cell_type": "markdown",
   "metadata": {},
   "source": [
    "## Load and Save Training Data as Pickles"
   ]
  },
  {
   "cell_type": "code",
   "execution_count": 5,
   "metadata": {},
   "outputs": [],
   "source": [
    "# people = [\"p1\",\"p2\",\"p3\",\"p4\"]\n",
    "# for name in people:\n",
    "#     normal_train = pd.read_csv(name+'Normal1.csv') # Reads a csc file into a dataframe\n",
    "#     seizure_train = pd.read_csv(name+'Seizure1.csv') # Reads a csc file into a dataframe"
   ]
  },
  {
   "cell_type": "code",
   "execution_count": 6,
   "metadata": {},
   "outputs": [],
   "source": [
    "# # people = [\"p1\",\"p2\",\"p3\",\"p4\"]\n",
    "# normal_dist_dict_train = {}\n",
    "# seizure_dist_dict_train = {}\n",
    "# for name in people:\n",
    "#     normal_dist_dict_train[name] = normal_body_dist_data(normal_train,full_body,45)\n",
    "#     seizure_dist_dict_train[name] = seizure_body_dist_data(seizure_train,full_body,45)"
   ]
  },
  {
   "cell_type": "code",
   "execution_count": 9,
   "metadata": {},
   "outputs": [],
   "source": [
    "# frames1 = [normal_dist_dict_train['adrienne'], seizure_dist_dict_train['adrienne'], normal_dist_dict_train['avery'], seizure_dist_dict_train['avery'], normal_dist_dict_train['sophia'], seizure_dist_dict_train['sophia'], normal_dist_dict_train['josh'], seizure_dist_dict_train['josh']]\n",
    "# result1 = pd.concat(frames1)"
   ]
  },
  {
   "cell_type": "code",
   "execution_count": 34,
   "metadata": {},
   "outputs": [],
   "source": [
    "# result1.to_pickle('result1.pickle')"
   ]
  },
  {
   "cell_type": "code",
   "execution_count": 2,
   "metadata": {},
   "outputs": [],
   "source": [
    "result1 = pd.read_pickle('result1.pickle')"
   ]
  },
  {
   "cell_type": "code",
   "execution_count": 13,
   "metadata": {},
   "outputs": [],
   "source": [
    "# people = [\"p1\",\"p2\",\"p3\",\"p4\"]\n",
    "# normal_dist_dict_test = {}\n",
    "# seizure_dist_dict_test = {}\n",
    "# for name in people:\n",
    "#     normal_test = pd.read_csv(name+'Normal2.csv') # Reads a csc file into a dataframe\n",
    "#     seizure_test = pd.read_csv(name+'Seizure2.csv') # Reads a csc file into a dataframe"
   ]
  },
  {
   "cell_type": "code",
   "execution_count": 14,
   "metadata": {},
   "outputs": [],
   "source": [
    "# people = [\"p1\",\"p2\",\"p3\",\"p4\"]\n",
    "# normal_dist_dict_test = {}\n",
    "# seizure_dist_dict_test = {}\n",
    "# for name in people:\n",
    "#     normal_dist_dict_test[name] = normal_body_dist_data(normal_test,full_body,45)\n",
    "#     seizure_dist_dict_test[name] = seizure_body_dist_data(seizure_test,full_body,45)"
   ]
  },
  {
   "cell_type": "code",
   "execution_count": 15,
   "metadata": {},
   "outputs": [],
   "source": [
    "# frames2 = [normal_dist_dict_test['adrienne'], seizure_dist_dict_test['adrienne'], normal_dist_dict_test['avery'], seizure_dist_dict_test['avery'], normal_dist_dict_test['sophia'], seizure_dist_dict_test['sophia'], normal_dist_dict_test['josh'], seizure_dist_dict_test['josh']]\n",
    "# result2 = pd.concat(frames2)"
   ]
  },
  {
   "cell_type": "code",
   "execution_count": 37,
   "metadata": {},
   "outputs": [],
   "source": [
    "# result2.to_pickle('result2.pickle')"
   ]
  },
  {
   "cell_type": "code",
   "execution_count": 3,
   "metadata": {},
   "outputs": [],
   "source": [
    "result2 = pd.read_pickle('result2.pickle')"
   ]
  },
  {
   "cell_type": "code",
   "execution_count": 4,
   "metadata": {},
   "outputs": [],
   "source": [
    "totalData = [result1,result2]\n",
    "results = pd.concat(totalData)"
   ]
  },
  {
   "cell_type": "code",
   "execution_count": 5,
   "metadata": {},
   "outputs": [
    {
     "name": "stderr",
     "output_type": "stream",
     "text": [
      "/home/avery/anaconda3/lib/python3.7/site-packages/ipykernel_launcher.py:3: SettingWithCopyWarning: \n",
      "A value is trying to be set on a copy of a slice from a DataFrame\n",
      "\n",
      "See the caveats in the documentation: http://pandas.pydata.org/pandas-docs/stable/user_guide/indexing.html#returning-a-view-versus-a-copy\n",
      "  This is separate from the ipykernel package so we can avoid doing imports until\n",
      "/home/avery/anaconda3/lib/python3.7/site-packages/ipykernel_launcher.py:4: SettingWithCopyWarning: \n",
      "A value is trying to be set on a copy of a slice from a DataFrame\n",
      "\n",
      "See the caveats in the documentation: http://pandas.pydata.org/pandas-docs/stable/user_guide/indexing.html#returning-a-view-versus-a-copy\n",
      "  after removing the cwd from sys.path.\n"
     ]
    }
   ],
   "source": [
    "X_train = results.iloc[:,:672]\n",
    "y_train = results.iloc[:,672]\n",
    "y_train[y_train == 'seizure'] = 1\n",
    "y_train[y_train == 'normal'] = 0\n",
    "y_train = pd.to_numeric(y_train)"
   ]
  },
  {
   "cell_type": "code",
   "execution_count": 9,
   "metadata": {},
   "outputs": [
    {
     "data": {
      "text/plain": [
       "(9664,)"
      ]
     },
     "execution_count": 9,
     "metadata": {},
     "output_type": "execute_result"
    }
   ],
   "source": [
    "y_train.shape"
   ]
  },
  {
   "cell_type": "markdown",
   "metadata": {},
   "source": [
    "## Test for highly correlated variables"
   ]
  },
  {
   "cell_type": "code",
   "execution_count": 19,
   "metadata": {},
   "outputs": [],
   "source": [
    "# def rm_high_corr(df):\n",
    "#     Create correlation matrix\n",
    "#     corr_matrix = df.corr().abs()\n",
    "\n",
    "#     Select upper triangle of correlation matrix\n",
    "#     upper = corr_matrix.where(np.triu(np.ones(corr_matrix.shape), k=1).astype(np.bool))\n",
    "\n",
    "#     Find index of feature columns with correlation greater than 0.95\n",
    "#     to_drop = [column for column in upper.columns if any(upper[column] > 0.75)]\n",
    "#     df.drop(df[to_drop], axis=0)\n",
    "#     return df\n",
    "# X_train = rm_high_corr(X_train)\n",
    "# X_test = rm_high_corr(X_train)"
   ]
  },
  {
   "cell_type": "markdown",
   "metadata": {},
   "source": [
    "## Cross Validate XGB model for optimal parameters"
   ]
  },
  {
   "cell_type": "code",
   "execution_count": 21,
   "metadata": {},
   "outputs": [],
   "source": [
    "# xgb_clf = XGBClassifier()\n",
    "# parameters = {'nthread':[4], #when use hyperthread, xgboost may become slower 'objective':['binary:logistic'],\n",
    "#               'learning_rate': [0.05], #so called `eta` value\n",
    "#               'max_depth': [40,50],\n",
    "#               'min_child_weight': [7],\n",
    "#               'silent': [1],\n",
    "#               'subsample': [0.5],\n",
    "#               'colsample_bytree': [0.6],\n",
    "#               'n_estimators': [5000],\n",
    "#               'seed': [1337]}\n",
    "\n",
    "# clf = GridSearchCV(xgb_clf, parameters, n_jobs=5, cv=10, scoring=make_scorer(f1_score))"
   ]
  },
  {
   "cell_type": "code",
   "execution_count": 22,
   "metadata": {},
   "outputs": [],
   "source": [
    "#bestF = clf.fit(X_train_scaled, y_train)"
   ]
  },
  {
   "cell_type": "code",
   "execution_count": 23,
   "metadata": {},
   "outputs": [],
   "source": [
    "#bestF.best_params_"
   ]
  },
  {
   "cell_type": "markdown",
   "metadata": {},
   "source": [
    "## Load and Save Test Data as Pickles"
   ]
  },
  {
   "cell_type": "markdown",
   "metadata": {},
   "source": [
    "820 true positives\n",
    "192 false positives\n",
    "196 false negatives"
   ]
  },
  {
   "cell_type": "code",
   "execution_count": 15,
   "metadata": {},
   "outputs": [],
   "source": [
    "#demo1 = pd.read_csv('Demo1.csv')"
   ]
  },
  {
   "cell_type": "code",
   "execution_count": 55,
   "metadata": {},
   "outputs": [],
   "source": [
    "#demo_data = normal_body_dist_data(demo1,full_body,45)"
   ]
  },
  {
   "cell_type": "code",
   "execution_count": 59,
   "metadata": {},
   "outputs": [],
   "source": [
    "#demo_data.iloc[205:,672]='seizure'"
   ]
  },
  {
   "cell_type": "code",
   "execution_count": 61,
   "metadata": {},
   "outputs": [],
   "source": [
    "#demo_data.to_pickle('demo_results.pickle')"
   ]
  },
  {
   "cell_type": "code",
   "execution_count": 6,
   "metadata": {},
   "outputs": [],
   "source": [
    "demo_data = pd.read_pickle('demo_results.pickle')"
   ]
  },
  {
   "cell_type": "code",
   "execution_count": 7,
   "metadata": {},
   "outputs": [
    {
     "name": "stderr",
     "output_type": "stream",
     "text": [
      "/home/avery/anaconda3/lib/python3.7/site-packages/ipykernel_launcher.py:3: SettingWithCopyWarning: \n",
      "A value is trying to be set on a copy of a slice from a DataFrame\n",
      "\n",
      "See the caveats in the documentation: http://pandas.pydata.org/pandas-docs/stable/user_guide/indexing.html#returning-a-view-versus-a-copy\n",
      "  This is separate from the ipykernel package so we can avoid doing imports until\n",
      "/home/avery/anaconda3/lib/python3.7/site-packages/ipykernel_launcher.py:4: SettingWithCopyWarning: \n",
      "A value is trying to be set on a copy of a slice from a DataFrame\n",
      "\n",
      "See the caveats in the documentation: http://pandas.pydata.org/pandas-docs/stable/user_guide/indexing.html#returning-a-view-versus-a-copy\n",
      "  after removing the cwd from sys.path.\n"
     ]
    }
   ],
   "source": [
    "X_test = demo_data.iloc[:,:672]\n",
    "y_test = demo_data.iloc[:,672]\n",
    "y_test[y_test == 'seizure'] = 1\n",
    "y_test[y_test == 'normal'] = 0\n",
    "y_test = pd.to_numeric(y_test)"
   ]
  },
  {
   "cell_type": "markdown",
   "metadata": {},
   "source": [
    "## Scale Training and Testing Data (and save scaler as Pickle)"
   ]
  },
  {
   "cell_type": "code",
   "execution_count": 8,
   "metadata": {},
   "outputs": [],
   "source": [
    "ss = StandardScaler().fit(X_train)\n",
    "X_train_scaled = ss.transform(X_train)\n",
    "X_test_scaled = ss.transform(X_test)"
   ]
  },
  {
   "cell_type": "code",
   "execution_count": 84,
   "metadata": {},
   "outputs": [],
   "source": [
    "pickle.dump(ss, open('./scaler.pickle', 'wb'))"
   ]
  },
  {
   "cell_type": "markdown",
   "metadata": {},
   "source": [
    "## Fit optimized XGB model on training data and predict on test data"
   ]
  },
  {
   "cell_type": "code",
   "execution_count": 9,
   "metadata": {},
   "outputs": [],
   "source": [
    "xgb_mod = XGBClassifier(colsample_bytree= 0.6,\n",
    " learning_rate= 0.05,\n",
    " max_depth = 40,\n",
    " min_child_weight = 7,\n",
    " missing= -999,\n",
    " n_estimators = 5000,\n",
    " nthread= 4,\n",
    " objective= 'binary:logistic',\n",
    " seed= 1337,\n",
    " silent= 1,\n",
    " subsample= 0.5)\n",
    "xgb_mod.fit(X_train_scaled, y_train)\n",
    "y_prob = xgb_mod.predict_proba(X_test_scaled)"
   ]
  },
  {
   "cell_type": "markdown",
   "metadata": {},
   "source": [
    "## Explore feature importance of XGB model"
   ]
  },
  {
   "cell_type": "code",
   "execution_count": 12,
   "metadata": {},
   "outputs": [
    {
     "data": {
      "image/png": "[encoded data removed]",
      "text/plain": [
       "<Figure size 432x288 with 1 Axes>"
      ]
     },
     "metadata": {
      "needs_background": "light"
     },
     "output_type": "display_data"
    }
   ],
   "source": [
    "plot_importance(xgb_mod)\n",
    "plt.show()"
   ]
  },
  {
   "cell_type": "code",
   "execution_count": 43,
   "metadata": {
    "scrolled": true
   },
   "outputs": [
    {
     "name": "stdout",
     "output_type": "stream",
     "text": [
      "672\n"
     ]
    },
    {
     "data": {
      "image/png": "[encoded data removed]",
      "text/plain": [
       "<Figure size 432x288 with 1 Axes>"
      ]
     },
     "metadata": {
      "needs_background": "light"
     },
     "output_type": "display_data"
    }
   ],
   "source": [
    "varVal = xgb_mod.feature_importances_.tolist()\n",
    "varImp = {}\n",
    "print(len(varVal))\n",
    "header = list(demo_data.columns) \n",
    "for i in range(0,len(varVal)):\n",
    "    if varVal[i] > .005:\n",
    "        j = header[i]\n",
    "        varImp[j]=varVal[i]\n",
    "list(varImp.keys())\n",
    "fig = plt.barh(range(len(varImp.keys())), varImp.values(),tick_label=list(varImp.keys()))\n",
    "plt.show()"
   ]
  },
  {
   "cell_type": "markdown",
   "metadata": {},
   "source": [
    "## Calculate performance metrics of test data (with optimized cutoff value for classification) "
   ]
  },
  {
   "cell_type": "code",
   "execution_count": 15,
   "metadata": {
    "scrolled": true
   },
   "outputs": [
    {
     "data": {
      "text/plain": [
       "array([0.9908194 , 0.9906012 , 0.98756427, 0.9738361 , 0.97064555,\n",
       "       0.97064555, 0.586873  , 0.0037588 , 0.0037588 , 0.03748185,\n",
       "       0.03748185, 0.03748185, 0.00310924, 0.00173151, 0.00152051,\n",
       "       0.00170304, 0.00170304, 0.00170304, 0.00161186, 0.00151585,\n",
       "       0.00151585, 0.00261769, 0.00346779, 0.00346779, 0.00710436,\n",
       "       0.00754998, 0.9911152 , 0.9911152 , 0.9911152 , 0.9911152 ,\n",
       "       0.9911152 , 0.9911152 , 0.9911152 , 0.9911152 , 0.9911152 ,\n",
       "       0.99140245, 0.99140245, 0.99140245, 0.99140245, 0.99140245,\n",
       "       0.99140245, 0.99140245, 0.99140245, 0.99140245, 0.99140245,\n",
       "       0.9911152 , 0.9911152 , 0.99140245, 0.99140245, 0.99140245,\n",
       "       0.9919429 , 0.9919429 , 0.9919429 , 0.9919429 , 0.9919429 ,\n",
       "       0.9919429 , 0.9919429 , 0.9919429 , 0.9919429 , 0.9919429 ,\n",
       "       0.9919429 , 0.9919429 , 0.9919429 , 0.9919429 , 0.9919429 ,\n",
       "       0.9919429 , 0.9919429 , 0.9919429 , 0.99140245, 0.99140245,\n",
       "       0.9913003 , 0.9912034 , 0.99137676, 0.99137676, 0.99137676,\n",
       "       0.9919407 , 0.9919407 , 0.9919407 , 0.9919407 , 0.9919407 ,\n",
       "       0.9919407 , 0.9919407 , 0.9919407 , 0.9910573 , 0.9910573 ,\n",
       "       0.9910573 , 0.9910573 , 0.9910573 , 0.9910573 , 0.9775853 ,\n",
       "       0.7480186 , 0.00374772, 0.00374772, 0.0044496 , 0.04222135,\n",
       "       0.04222135, 0.04222135, 0.08336049, 0.10872881, 0.11260895,\n",
       "       0.11260895, 0.08109812, 0.08109812, 0.08109812, 0.08109812,\n",
       "       0.08109812, 0.08109812, 0.08109812, 0.08109812, 0.08109812,\n",
       "       0.08109812, 0.08109812, 0.08641753, 0.07080059, 0.07080059,\n",
       "       0.07080059, 0.07018157, 0.0373971 , 0.0373971 , 0.0373971 ,\n",
       "       0.0373971 , 0.0373971 , 0.0373971 , 0.0373971 , 0.0373971 ,\n",
       "       0.0373971 , 0.0373971 , 0.0373971 , 0.03997476, 0.03997476,\n",
       "       0.03997476, 0.03997476, 0.03997476, 0.03997476, 0.03997476,\n",
       "       0.03997476, 0.03997476, 0.00321922, 0.00300422, 0.00300422,\n",
       "       0.00300422, 0.00239692, 0.00153223, 0.00153223, 0.00145047,\n",
       "       0.00145047, 0.00145047, 0.00145047, 0.00154564, 0.00145047,\n",
       "       0.00145047, 0.00145047, 0.00145047, 0.00145047, 0.00145047,\n",
       "       0.00145047, 0.00154564, 0.00154564, 0.00154564, 0.00154564,\n",
       "       0.00154564, 0.00154564, 0.00154564, 0.00154564, 0.00154564,\n",
       "       0.00154564, 0.00154564, 0.00154564, 0.00154564, 0.00154564,\n",
       "       0.00154564, 0.00154564, 0.00154564, 0.00144678, 0.00144678,\n",
       "       0.00144678, 0.00144678, 0.00144678, 0.00136477, 0.00136477,\n",
       "       0.00136477, 0.00136477, 0.00136477, 0.00136477, 0.00128072,\n",
       "       0.00128072, 0.00128072, 0.00128072, 0.00128072, 0.00136477,\n",
       "       0.00154564, 0.00154564, 0.00154564, 0.00154564, 0.00154564,\n",
       "       0.00154564, 0.00154564, 0.00163359, 0.00163359, 0.00163359,\n",
       "       0.00154564, 0.00152911, 0.00163359, 0.00163359, 0.00172566,\n",
       "       0.00197533, 0.00197533, 0.00209092, 0.00209092, 0.00209092,\n",
       "       0.00220914, 0.00220914, 0.00220914, 0.00220914, 0.00220914,\n",
       "       0.00253476, 0.00302062, 0.08802004, 0.08802004, 0.09071793,\n",
       "       0.12907803, 0.99173295, 0.9919647 , 0.9919647 , 0.9922786 ,\n",
       "       0.9927644 , 0.9930421 , 0.99342525, 0.99342525, 0.99342525,\n",
       "       0.9938547 , 0.9940222 , 0.9938547 , 0.9938547 , 0.9938547 ,\n",
       "       0.9938547 , 0.9938547 , 0.9938547 , 0.9938547 , 0.9938547 ,\n",
       "       0.9938547 , 0.9938547 , 0.9938547 , 0.9938547 , 0.9938547 ,\n",
       "       0.9938547 , 0.9938547 , 0.9938547 , 0.9938547 , 0.9938547 ,\n",
       "       0.9938547 , 0.9938547 , 0.9938547 , 0.9817883 , 0.964793  ,\n",
       "       0.964793  , 0.9654499 , 0.9654499 , 0.9654499 , 0.9654499 ,\n",
       "       0.9654499 , 0.9654499 , 0.9654499 , 0.9654499 , 0.9654499 ,\n",
       "       0.96636516, 0.96636516, 0.96636516, 0.965725  , 0.9755157 ,\n",
       "       0.9817883 , 0.9755157 , 0.96636516, 0.96636516, 0.9755157 ,\n",
       "       0.9819356 , 0.9819356 , 0.9822787 , 0.9822787 , 0.97504514,\n",
       "       0.97504514, 0.97504514, 0.97504514, 0.9934609 , 0.9822787 ,\n",
       "       0.9822787 , 0.9822787 , 0.9822787 , 0.9822787 , 0.9822787 ,\n",
       "       0.9822787 , 0.9822787 , 0.9940222 , 0.9940222 , 0.9940222 ,\n",
       "       0.9940222 , 0.9940222 , 0.9940222 , 0.9940222 , 0.9940222 ,\n",
       "       0.9940222 , 0.9940222 , 0.9940222 , 0.9940222 , 0.9940222 ,\n",
       "       0.9940222 , 0.9940222 , 0.9940222 , 0.9940222 , 0.9936737 ,\n",
       "       0.9936737 , 0.9940222 , 0.9940222 , 0.9936737 , 0.9936737 ,\n",
       "       0.99342525, 0.99342525, 0.99342525, 0.99342525, 0.99342525,\n",
       "       0.9929836 , 0.9802049 , 0.9807371 , 0.9807371 , 0.9794097 ,\n",
       "       0.9794097 , 0.9807371 , 0.9807371 , 0.97340167, 0.9625002 ,\n",
       "       0.9625002 , 0.9625002 , 0.9625002 , 0.9625002 , 0.9625002 ,\n",
       "       0.9625002 , 0.9625002 , 0.9625002 , 0.9625002 , 0.9625002 ,\n",
       "       0.9625002 , 0.9625002 , 0.9625002 , 0.9625002 , 0.9625002 ,\n",
       "       0.9625002 , 0.9625002 , 0.9599676 , 0.9634906 , 0.9625002 ,\n",
       "       0.9625002 , 0.9625002 , 0.9625002 , 0.9625002 , 0.9625002 ,\n",
       "       0.9625002 , 0.9625002 , 0.9625002 , 0.9625002 , 0.9625002 ,\n",
       "       0.9634906 , 0.9634906 , 0.9634906 , 0.9634906 , 0.9634906 ,\n",
       "       0.98068935, 0.98068935, 0.98068935, 0.9794097 , 0.9794097 ,\n",
       "       0.9794097 , 0.9807371 , 0.9794097 , 0.9794097 , 0.9794097 ,\n",
       "       0.9794097 , 0.9794097 , 0.9794097 , 0.9794097 , 0.9794097 ,\n",
       "       0.9794097 , 0.9794097 , 0.9794097 , 0.9794097 , 0.9794097 ,\n",
       "       0.9931746 , 0.9931746 , 0.9931746 , 0.9931746 , 0.9926964 ,\n",
       "       0.99227107, 0.99227107, 0.99227107, 0.99227107, 0.99195683,\n",
       "       0.99195683, 0.99195683, 0.99195683, 0.99195683, 0.99195683,\n",
       "       0.9910486 , 0.9910486 , 0.99195683, 0.99074966, 0.9907987 ,\n",
       "       0.991732  , 0.99145573, 0.9911152 , 0.99169606, 0.99169606,\n",
       "       0.99169606, 0.99169606, 0.99169606, 0.99169606, 0.99169606,\n",
       "       0.99169606, 0.99169606, 0.99169606, 0.99169606, 0.99169606,\n",
       "       0.99169606, 0.99169606, 0.99169606, 0.99169606, 0.99169606,\n",
       "       0.99221826, 0.99221826, 0.99221826, 0.99221826, 0.99221826,\n",
       "       0.99221826, 0.99221826, 0.99221826, 0.99221826, 0.99221826,\n",
       "       0.99221826, 0.99169606, 0.99221826, 0.99221826, 0.99221826,\n",
       "       0.99221826, 0.99221826, 0.99221826, 0.99221826, 0.99221826,\n",
       "       0.99221826, 0.99221826, 0.99221826, 0.9916735 , 0.99284655,\n",
       "       0.99284655, 0.99284655], dtype=float32)"
      ]
     },
     "execution_count": 15,
     "metadata": {},
     "output_type": "execute_result"
    }
   ],
   "source": [
    "y_pred = y_prob[:,1]"
   ]
  },
  {
   "cell_type": "code",
   "execution_count": 16,
   "metadata": {},
   "outputs": [],
   "source": [
    "for i in range(0,y_pred.size):\n",
    "    if y_pred[i]>.3:  \n",
    "        y_pred[i]=1\n",
    "    else:\n",
    "        y_pred[i]=0"
   ]
  },
  {
   "cell_type": "code",
   "execution_count": 36,
   "metadata": {},
   "outputs": [
    {
     "data": {
      "text/plain": [
       "numpy.ndarray"
      ]
     },
     "execution_count": 36,
     "metadata": {},
     "output_type": "execute_result"
    }
   ],
   "source": [
    "type(y_pred)"
   ]
  },
  {
   "cell_type": "code",
   "execution_count": 17,
   "metadata": {},
   "outputs": [
    {
     "data": {
      "text/plain": [
       "(133, 72, 16, 231)"
      ]
     },
     "execution_count": 17,
     "metadata": {},
     "output_type": "execute_result"
    }
   ],
   "source": [
    "tn, fp, fn, tp = confusion_matrix(y_test, y_pred).ravel()\n",
    "(tn, fp, fn, tp)"
   ]
  },
  {
   "cell_type": "code",
   "execution_count": 18,
   "metadata": {},
   "outputs": [
    {
     "data": {
      "text/plain": [
       "array([[133,  72],\n",
       "       [ 16, 231]])"
      ]
     },
     "execution_count": 18,
     "metadata": {},
     "output_type": "execute_result"
    }
   ],
   "source": [
    "confusion_matrix(y_test, y_pred)"
   ]
  },
  {
   "cell_type": "code",
   "execution_count": 19,
   "metadata": {},
   "outputs": [
    {
     "data": {
      "text/html": [
       "<div>\n",
       "<style scoped>\n",
       "    .dataframe tbody tr th:only-of-type {\n",
       "        vertical-align: middle;\n",
       "    }\n",
       "\n",
       "    .dataframe tbody tr th {\n",
       "        vertical-align: top;\n",
       "    }\n",
       "\n",
       "    .dataframe thead th {\n",
       "        text-align: right;\n",
       "    }\n",
       "</style>\n",
       "<table border=\"1\" class=\"dataframe\">\n",
       "  <thead>\n",
       "    <tr style=\"text-align: right;\">\n",
       "      <th></th>\n",
       "      <th>pred</th>\n",
       "    </tr>\n",
       "  </thead>\n",
       "  <tbody>\n",
       "    <tr>\n",
       "      <td>0</td>\n",
       "      <td>1.0</td>\n",
       "    </tr>\n",
       "    <tr>\n",
       "      <td>1</td>\n",
       "      <td>1.0</td>\n",
       "    </tr>\n",
       "    <tr>\n",
       "      <td>2</td>\n",
       "      <td>1.0</td>\n",
       "    </tr>\n",
       "    <tr>\n",
       "      <td>3</td>\n",
       "      <td>1.0</td>\n",
       "    </tr>\n",
       "    <tr>\n",
       "      <td>4</td>\n",
       "      <td>1.0</td>\n",
       "    </tr>\n",
       "    <tr>\n",
       "      <td>...</td>\n",
       "      <td>...</td>\n",
       "    </tr>\n",
       "    <tr>\n",
       "      <td>447</td>\n",
       "      <td>1.0</td>\n",
       "    </tr>\n",
       "    <tr>\n",
       "      <td>448</td>\n",
       "      <td>1.0</td>\n",
       "    </tr>\n",
       "    <tr>\n",
       "      <td>449</td>\n",
       "      <td>1.0</td>\n",
       "    </tr>\n",
       "    <tr>\n",
       "      <td>450</td>\n",
       "      <td>1.0</td>\n",
       "    </tr>\n",
       "    <tr>\n",
       "      <td>451</td>\n",
       "      <td>1.0</td>\n",
       "    </tr>\n",
       "  </tbody>\n",
       "</table>\n",
       "<p>452 rows × 1 columns</p>\n",
       "</div>"
      ],
      "text/plain": [
       "     pred\n",
       "0     1.0\n",
       "1     1.0\n",
       "2     1.0\n",
       "3     1.0\n",
       "4     1.0\n",
       "..    ...\n",
       "447   1.0\n",
       "448   1.0\n",
       "449   1.0\n",
       "450   1.0\n",
       "451   1.0\n",
       "\n",
       "[452 rows x 1 columns]"
      ]
     },
     "execution_count": 19,
     "metadata": {},
     "output_type": "execute_result"
    }
   ],
   "source": [
    "demo_pred = pd.DataFrame({'pred':y_pred})"
   ]
  },
  {
   "cell_type": "code",
   "execution_count": 20,
   "metadata": {},
   "outputs": [
    {
     "data": {
      "text/plain": [
       "array([[133,  72],\n",
       "       [ 16, 231]])"
      ]
     },
     "execution_count": 20,
     "metadata": {},
     "output_type": "execute_result"
    }
   ],
   "source": [
    "confusion_matrix(y_test, demo_pred)"
   ]
  },
  {
   "cell_type": "markdown",
   "metadata": {},
   "source": [
    "## Save Model to pickle"
   ]
  },
  {
   "cell_type": "code",
   "execution_count": 22,
   "metadata": {},
   "outputs": [],
   "source": [
    "pickle.dump(xgb_mod, open('./final_prediction.pickle', 'wb'))"
   ]
  }
 ],
 "metadata": {
  "kernelspec": {
   "display_name": "Python 3",
   "language": "python",
   "name": "python3"
  },
  "language_info": {
   "codemirror_mode": {
    "name": "ipython",
    "version": 3
   },
   "file_extension": ".py",
   "mimetype": "text/x-python",
   "name": "python",
   "nbconvert_exporter": "python",
   "pygments_lexer": "ipython3",
   "version": "3.7.4"
  }
 },
 "nbformat": 4,
 "nbformat_minor": 2
}
