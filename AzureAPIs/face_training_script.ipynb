{
 "cells": [
  {
   "cell_type": "code",
   "execution_count": 12,
   "metadata": {},
   "outputs": [],
   "source": [
    "import asyncio\n",
    "import io\n",
    "import glob\n",
    "import os\n",
    "import sys\n",
    "import time\n",
    "import uuid\n",
    "import requests\n",
    "from urllib.parse import urlparse\n",
    "from io import BytesIO\n",
    "from PIL import Image, ImageDraw\n",
    "from azure.cognitiveservices.vision.face import FaceClient\n",
    "from msrest.authentication import CognitiveServicesCredentials\n",
    "from azure.cognitiveservices.vision.face.models import TrainingStatusType, Person, SnapshotObjectType, OperationStatusType\n",
    "import csv\n",
    "import errno\n",
    "import json\n",
    "KEY = 'your key here'\n",
    "\n",
    "# Set the FACE_ENDPOINT environment variable with the endpoint from your Face service in Azure.\n",
    "# This endpoint will be used in all examples in this quickstart.\n",
    "ENDPOINT = 'your endpoint here'\n",
    "face_client = FaceClient(ENDPOINT, CognitiveServicesCredentials(KEY))\n"
   ]
  },
  {
   "cell_type": "code",
   "execution_count": 13,
   "metadata": {},
   "outputs": [
    {
     "name": "stdout",
     "output_type": "stream",
     "text": [
      "Person group: lab-group\n"
     ]
    },
    {
     "ename": "APIErrorException",
     "evalue": "(PersonGroupExists) Person group 'lab-group' already exists.",
     "output_type": "error",
     "traceback": [
      "\u001b[0;31m---------------------------------------------------------------------------\u001b[0m",
      "\u001b[0;31mAPIErrorException\u001b[0m                         Traceback (most recent call last)",
      "\u001b[0;32m<ipython-input-13-46f7376fbc6c>\u001b[0m in \u001b[0;36m<module>\u001b[0;34m\u001b[0m\n\u001b[1;32m      6\u001b[0m \u001b[0;31m# Create empty Person Group. Person Group ID must be lower case, alphanumeric, and/or with '-', '_'.\u001b[0m\u001b[0;34m\u001b[0m\u001b[0;34m\u001b[0m\u001b[0;34m\u001b[0m\u001b[0m\n\u001b[1;32m      7\u001b[0m \u001b[0mprint\u001b[0m\u001b[0;34m(\u001b[0m\u001b[0;34m'Person group:'\u001b[0m\u001b[0;34m,\u001b[0m \u001b[0mPERSON_GROUP_ID\u001b[0m\u001b[0;34m)\u001b[0m\u001b[0;34m\u001b[0m\u001b[0;34m\u001b[0m\u001b[0m\n\u001b[0;32m----> 8\u001b[0;31m \u001b[0mface_client\u001b[0m\u001b[0;34m.\u001b[0m\u001b[0mperson_group\u001b[0m\u001b[0;34m.\u001b[0m\u001b[0mcreate\u001b[0m\u001b[0;34m(\u001b[0m\u001b[0mperson_group_id\u001b[0m\u001b[0;34m=\u001b[0m\u001b[0mPERSON_GROUP_ID\u001b[0m\u001b[0;34m,\u001b[0m \u001b[0mname\u001b[0m\u001b[0;34m=\u001b[0m\u001b[0mPERSON_GROUP_ID\u001b[0m\u001b[0;34m)\u001b[0m\u001b[0;34m\u001b[0m\u001b[0;34m\u001b[0m\u001b[0m\n\u001b[0m",
      "\u001b[0;32m~/anaconda3/lib/python3.7/site-packages/azure/cognitiveservices/vision/face/operations/_person_group_operations.py\u001b[0m in \u001b[0;36mcreate\u001b[0;34m(self, person_group_id, name, user_data, recognition_model, custom_headers, raw, **operation_config)\u001b[0m\n\u001b[1;32m    126\u001b[0m \u001b[0;34m\u001b[0m\u001b[0m\n\u001b[1;32m    127\u001b[0m         \u001b[0;32mif\u001b[0m \u001b[0mresponse\u001b[0m\u001b[0;34m.\u001b[0m\u001b[0mstatus_code\u001b[0m \u001b[0;32mnot\u001b[0m \u001b[0;32min\u001b[0m \u001b[0;34m[\u001b[0m\u001b[0;36m200\u001b[0m\u001b[0;34m]\u001b[0m\u001b[0;34m:\u001b[0m\u001b[0;34m\u001b[0m\u001b[0;34m\u001b[0m\u001b[0m\n\u001b[0;32m--> 128\u001b[0;31m             \u001b[0;32mraise\u001b[0m \u001b[0mmodels\u001b[0m\u001b[0;34m.\u001b[0m\u001b[0mAPIErrorException\u001b[0m\u001b[0;34m(\u001b[0m\u001b[0mself\u001b[0m\u001b[0;34m.\u001b[0m\u001b[0m_deserialize\u001b[0m\u001b[0;34m,\u001b[0m \u001b[0mresponse\u001b[0m\u001b[0;34m)\u001b[0m\u001b[0;34m\u001b[0m\u001b[0;34m\u001b[0m\u001b[0m\n\u001b[0m\u001b[1;32m    129\u001b[0m \u001b[0;34m\u001b[0m\u001b[0m\n\u001b[1;32m    130\u001b[0m         \u001b[0;32mif\u001b[0m \u001b[0mraw\u001b[0m\u001b[0;34m:\u001b[0m\u001b[0;34m\u001b[0m\u001b[0;34m\u001b[0m\u001b[0m\n",
      "\u001b[0;31mAPIErrorException\u001b[0m: (PersonGroupExists) Person group 'lab-group' already exists."
     ]
    }
   ],
   "source": [
    "PERSON_GROUP_ID = 'lab-group'\n",
    "\n",
    "# Used for the Snapshot and Delete Person Group examples.\n",
    "TARGET_PERSON_GROUP_ID = str(uuid.uuid4()) # assign a random ID (or name it anything)\n",
    "\n",
    "# Create empty Person Group. Person Group ID must be lower case, alphanumeric, and/or with '-', '_'.\n",
    "print('Person group:', PERSON_GROUP_ID)\n",
    "face_client.person_group.create(person_group_id=PERSON_GROUP_ID, name=PERSON_GROUP_ID)"
   ]
  },
  {
   "cell_type": "code",
   "execution_count": 35,
   "metadata": {},
   "outputs": [
    {
     "name": "stdout",
     "output_type": "stream",
     "text": [
      "\n",
      "Training the person group...\n",
      "17f82e77-389b-4a91-a812-670f1f807875\n",
      "32c18574-c9a4-4330-9525-878cb9173bd7\n",
      "Training status: running.\n",
      "\n",
      "Training status: running.\n",
      "\n",
      "Training status: running.\n",
      "\n",
      "Training status: running.\n",
      "\n",
      "Training status: running.\n",
      "\n",
      "Training status: succeeded.\n",
      "\n",
      "avery\n",
      "joshua\n"
     ]
    }
   ],
   "source": [
    "#face_client.person_group.create(person_group_id=PERSON_GROUP_ID, name=PERSON_GROUP_ID)\n",
    "\n",
    "# Define person friend\n",
    "josh = face_client.person_group_person.create(PERSON_GROUP_ID, \"josh\")\n",
    "# Define man friend\n",
    "avery = face_client.person_group_person.create(PERSON_GROUP_ID, \"avery\")\n",
    "\n",
    "josh_images = [file for file in glob.glob('*.jpg') if file.startswith(\"josh\")]\n",
    "for image in josh_images:\n",
    "    a = open(image, 'r+b')\n",
    "    face_client.person_group_person.add_face_from_stream(PERSON_GROUP_ID, josh.person_id, a)\n",
    "    \n",
    "avery_images = [file for file in glob.glob('*.jpg') if file.startswith(\"avery\")]\n",
    "for image in avery_images:\n",
    "    a = open(image, 'r+b')\n",
    "    face_client.person_group_person.add_face_from_stream(PERSON_GROUP_ID, avery.person_id, a)\n",
    "\n",
    "# Add to a child person\n",
    "#for image in child_images:\n",
    "    #ch = open(image, 'r+b')\n",
    "    #face_client.person_group_person.add_face_from_stream(PERSON_GROUP_ID, child.person_id, ch)\n",
    "\n",
    "    '''\n",
    "Train PersonGroup\n",
    "'''\n",
    "print()\n",
    "print('Training the person group...')\n",
    "# Train the person group\n",
    "face_client.person_group.train(PERSON_GROUP_ID)\n",
    "print(josh.person_id)\n",
    "print(avery.person_id)\n",
    "while (True):\n",
    "    training_status = face_client.person_group.get_training_status(PERSON_GROUP_ID)\n",
    "    print(\"Training status: {}.\".format(training_status.status))\n",
    "    print()\n",
    "    if (training_status.status is TrainingStatusType.succeeded):\n",
    "        break\n",
    "    elif (training_status.status is TrainingStatusType.failed):\n",
    "        sys.exit('Training the person group has failed.')\n",
    "        \n",
    "PERSON_GROUP_ID = 'lab-group'\n",
    "# Group image for testing against\n",
    "group_photo = 'group_photo.jpg'\n",
    "IMAGES_FOLDER = os.path.join(os.path.dirname(os.path.realpath(group_photo)))\n",
    "# Get test image\n",
    "test_image_array = glob.glob(os.path.join(IMAGES_FOLDER, group_photo))\n",
    "image = open(test_image_array[0], 'r+b')\n",
    "\n",
    "# Detect faces\n",
    "person_ids = [avery.person_id,josh.person_id]\n",
    "person_ids_dict = {josh.person_id:\"joshua\",avery.person_id:\"avery\"}\n",
    "faces = face_client.face.detect_with_stream(image)\n",
    "count = 0\n",
    "\n",
    "for face in faces:\n",
    "    # Identify faces\n",
    "            for person in person_ids:\n",
    "                results = face_client.face.verify_face_to_person(face.face_id, person, person_group_id=PERSON_GROUP_ID)\n",
    "                if results.is_identical == True:\n",
    "                    print(person_ids_dict[person])\n",
    "                    val = 1\n",
    "                    break\n",
    "                else:\n",
    "                    val = 0\n",
    "            if val == 0:\n",
    "                print(\"unknown\")  \n",
    "\n"
   ]
  },
  {
   "cell_type": "code",
   "execution_count": null,
   "metadata": {},
   "outputs": [],
   "source": []
  },
  {
   "cell_type": "code",
   "execution_count": null,
   "metadata": {},
   "outputs": [],
   "source": []
  }
 ],
 "metadata": {
  "kernelspec": {
   "display_name": "Python 3",
   "language": "python",
   "name": "python3"
  },
  "language_info": {
   "codemirror_mode": {
    "name": "ipython",
    "version": 3
   },
   "file_extension": ".py",
   "mimetype": "text/x-python",
   "name": "python",
   "nbconvert_exporter": "python",
   "pygments_lexer": "ipython3",
   "version": "3.7.3"
  }
 },
 "nbformat": 4,
 "nbformat_minor": 2
}
